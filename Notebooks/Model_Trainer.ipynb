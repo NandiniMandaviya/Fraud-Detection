{
 "cells": [
  {
   "cell_type": "code",
   "execution_count": null,
   "id": "0adad434-c51c-41d4-85de-9e314f9efdf4",
   "metadata": {},
   "outputs": [],
   "source": [
    "import os\n",
    "from pathlib import Path\n",
    "from dataclasses import dataclass\n",
    "import pandas as pd\n",
    "pip install xgboost\n",
    "from xgboost import XGBClassifier\n",
    "import joblib\n",
    "from fraud_detection_project.utils.common import read_yaml, create_directories\n",
    "from fraud_detection_project import logger\n",
    "from fraud_detection_project.constants import *"
   ]
  },
  {
   "cell_type": "code",
   "execution_count": null,
   "id": "ba05648f-a2be-4a7f-b193-18b3b3c892c6",
   "metadata": {},
   "outputs": [],
   "source": [
    "@dataclass(frozen=True)\n",
    "class ModelTrainerConfig:\n",
    "    root_dir: Path\n",
    "    train_data_path: Path\n",
    "    test_data_path: Path\n",
    "    model_name: str\n",
    "    n_estimators: int\n",
    "    max_depth: int\n",
    "    learning_rate: float\n",
    "    subsample: float\n",
    "    colsample_bytree: float\n",
    "    random_state: int\n",
    "    target_column: str"
   ]
  },
  {
   "cell_type": "code",
   "execution_count": null,
   "id": "29cb067f-b011-4683-b90f-9fbe387dd754",
   "metadata": {},
   "outputs": [],
   "source": [
    "class ConfigurationManager:\n",
    "    def __init__(\n",
    "        self,\n",
    "        config_filepath=CONFIG_FILE_PATH,\n",
    "        params_filepath=PARAMS_FILE_PATH,\n",
    "        schema_filepath=SCHEMA_FILE_PATH\n",
    "    ):\n",
    "        self.config = read_yaml(config_filepath)\n",
    "        self.params = read_yaml(params_filepath)\n",
    "        self.schema = read_yaml(schema_filepath)\n",
    "        create_directories([self.config.artifacts_root])\n",
    "\n",
    "    def get_model_trainer_config(self) -> ModelTrainerConfig:\n",
    "        config = self.config.model_trainer\n",
    "        params = self.params.XGBClassifier\n",
    "\n",
    "        create_directories([config.root_dir])\n",
    "\n",
    "        return ModelTrainerConfig(\n",
    "            root_dir=config.root_dir,\n",
    "            train_data_path=config.train_data_path,\n",
    "            test_data_path=config.test_data_path,\n",
    "            model_name=config.model_name,\n",
    "            n_estimators=params.n_estimators,\n",
    "            max_depth=params.max_depth,\n",
    "            learning_rate=params.learning_rate,\n",
    "            subsample=params.subsample,\n",
    "            colsample_bytree=params.colsample_bytree,\n",
    "            random_state=params.random_state,\n",
    "            target_column=self.schema.TARGET_COLUMN.name\n",
    "        )\n",
    "\n",
    "\n"
   ]
  },
  {
   "cell_type": "code",
   "execution_count": null,
   "id": "78d79eaa-66c5-4955-a99d-acd26bcecae1",
   "metadata": {},
   "outputs": [],
   "source": [
    "class ModelTrainer:\n",
    "    def __init__(self, config: ModelTrainerConfig):\n",
    "        self.config = config\n",
    "\n",
    "    def train(self):\n",
    "        # Load train and test data from the Data Transformation output folder\n",
    "        train_data = pd.read_csv(self.config.train_data_path)\n",
    "        test_data = pd.read_csv(self.config.test_data_path)\n",
    "\n",
    "        train_x = train_data.drop([self.config.target_column], axis=1)\n",
    "        train_y = train_data[self.config.target_column]\n",
    "        test_x = test_data.drop([self.config.target_column], axis=1)\n",
    "        test_y = test_data[self.config.target_column]\n",
    "\n",
    "        xgb_params = {\n",
    "            'n_estimators': self.config.n_estimators,\n",
    "            'max_depth': self.config.max_depth,\n",
    "            'learning_rate': self.config.learning_rate,\n",
    "            'subsample': self.config.subsample,\n",
    "            'colsample_bytree': self.config.colsample_bytree,\n",
    "            'random_state': self.config.random_state,\n",
    "        }\n",
    "\n",
    "        xgb_clf = XGBClassifier(**xgb_params)\n",
    "        xgb_clf.fit(train_x, train_y)\n",
    "\n",
    "        # Save the trained model\n",
    "        model_path = self.config.root_dir / self.config.model_name\n",
    "        joblib.dump(xgb_clf, model_path)\n",
    "        logger.info(f\"Model saved at {model_path}\")"
   ]
  },
  {
   "cell_type": "code",
   "execution_count": null,
   "id": "97cde168-8dc3-436c-9b8d-75bcab250b7c",
   "metadata": {},
   "outputs": [],
   "source": [
    "try:\n",
    "    config = ConfigurationManager()\n",
    "    model_trainer_config = config.get_model_trainer_config()\n",
    "    trainer = ModelTrainer(config=model_trainer_config)\n",
    "    trainer.train()\n",
    "except Exception as e:\n",
    "    raise e"
   ]
  }
 ],
 "metadata": {
  "kernelspec": {
   "display_name": "Python 3 (ipykernel)",
   "language": "python",
   "name": "python3"
  },
  "language_info": {
   "codemirror_mode": {
    "name": "ipython",
    "version": 3
   },
   "file_extension": ".py",
   "mimetype": "text/x-python",
   "name": "python",
   "nbconvert_exporter": "python",
   "pygments_lexer": "ipython3",
   "version": "3.12.4"
  }
 },
 "nbformat": 4,
 "nbformat_minor": 5
}
